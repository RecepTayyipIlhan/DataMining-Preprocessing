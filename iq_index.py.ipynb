{
 "cells": [
  {
   "cell_type": "markdown",
   "source": [
    "### Data Source\n",
    "https://www.kaggle.com/datasets/chaudharypriyanshu/global-iq-index"
   ],
   "metadata": {
    "collapsed": false
   }
  },
  {
   "cell_type": "code",
   "execution_count": 2,
   "outputs": [],
   "source": [
    "import pandas as pd\n",
    "import random as rnd\n",
    "import numpy as np\n",
    "import math\n",
    "\n",
    "rnd.seed(42)"
   ],
   "metadata": {
    "collapsed": false
   }
  },
  {
   "cell_type": "code",
   "execution_count": 3,
   "metadata": {
    "collapsed": true
   },
   "outputs": [],
   "source": [
    "# CSV (Comma Seperated Value) reading\n",
    "data = pd.read_csv(\"iq_index.csv\")"
   ]
  },
  {
   "cell_type": "code",
   "execution_count": 4,
   "outputs": [
    {
     "data": {
      "text/plain": "    rank         country  finalIq      pop2021\n0      1       Singapore      107     5896.686\n1      2           China      105  1444216.107\n2      3       Hong Kong      105     7552.810\n3      4           Japan      104   126050.804\n4      5     South Korea      104    51305.186\n5      6     North Korea      104    25887.041\n6      7          Taiwan      104    23855.010\n7      8          Canada      100    38067.903\n8      9     Netherlands      100    17173.099\n9     10     Switzerland      100     8715.494\n10    11         Finland      100     5548.360\n11    12        Mongolia      100     3329.289\n12    13   Liechtenstein      100       38.250\n13    14  United Kingdom       99    68207.116\n14    15       Australia       99    25788.215\n15    16         Belgium       99    11632.326\n16    17         Austria       99     9043.070\n17    18         Estonia       99     1325.185\n18    19         Germany       98    83900.473\n19    20          France       98    65426.179",
      "text/html": "<div>\n<style scoped>\n    .dataframe tbody tr th:only-of-type {\n        vertical-align: middle;\n    }\n\n    .dataframe tbody tr th {\n        vertical-align: top;\n    }\n\n    .dataframe thead th {\n        text-align: right;\n    }\n</style>\n<table border=\"1\" class=\"dataframe\">\n  <thead>\n    <tr style=\"text-align: right;\">\n      <th></th>\n      <th>rank</th>\n      <th>country</th>\n      <th>finalIq</th>\n      <th>pop2021</th>\n    </tr>\n  </thead>\n  <tbody>\n    <tr>\n      <th>0</th>\n      <td>1</td>\n      <td>Singapore</td>\n      <td>107</td>\n      <td>5896.686</td>\n    </tr>\n    <tr>\n      <th>1</th>\n      <td>2</td>\n      <td>China</td>\n      <td>105</td>\n      <td>1444216.107</td>\n    </tr>\n    <tr>\n      <th>2</th>\n      <td>3</td>\n      <td>Hong Kong</td>\n      <td>105</td>\n      <td>7552.810</td>\n    </tr>\n    <tr>\n      <th>3</th>\n      <td>4</td>\n      <td>Japan</td>\n      <td>104</td>\n      <td>126050.804</td>\n    </tr>\n    <tr>\n      <th>4</th>\n      <td>5</td>\n      <td>South Korea</td>\n      <td>104</td>\n      <td>51305.186</td>\n    </tr>\n    <tr>\n      <th>5</th>\n      <td>6</td>\n      <td>North Korea</td>\n      <td>104</td>\n      <td>25887.041</td>\n    </tr>\n    <tr>\n      <th>6</th>\n      <td>7</td>\n      <td>Taiwan</td>\n      <td>104</td>\n      <td>23855.010</td>\n    </tr>\n    <tr>\n      <th>7</th>\n      <td>8</td>\n      <td>Canada</td>\n      <td>100</td>\n      <td>38067.903</td>\n    </tr>\n    <tr>\n      <th>8</th>\n      <td>9</td>\n      <td>Netherlands</td>\n      <td>100</td>\n      <td>17173.099</td>\n    </tr>\n    <tr>\n      <th>9</th>\n      <td>10</td>\n      <td>Switzerland</td>\n      <td>100</td>\n      <td>8715.494</td>\n    </tr>\n    <tr>\n      <th>10</th>\n      <td>11</td>\n      <td>Finland</td>\n      <td>100</td>\n      <td>5548.360</td>\n    </tr>\n    <tr>\n      <th>11</th>\n      <td>12</td>\n      <td>Mongolia</td>\n      <td>100</td>\n      <td>3329.289</td>\n    </tr>\n    <tr>\n      <th>12</th>\n      <td>13</td>\n      <td>Liechtenstein</td>\n      <td>100</td>\n      <td>38.250</td>\n    </tr>\n    <tr>\n      <th>13</th>\n      <td>14</td>\n      <td>United Kingdom</td>\n      <td>99</td>\n      <td>68207.116</td>\n    </tr>\n    <tr>\n      <th>14</th>\n      <td>15</td>\n      <td>Australia</td>\n      <td>99</td>\n      <td>25788.215</td>\n    </tr>\n    <tr>\n      <th>15</th>\n      <td>16</td>\n      <td>Belgium</td>\n      <td>99</td>\n      <td>11632.326</td>\n    </tr>\n    <tr>\n      <th>16</th>\n      <td>17</td>\n      <td>Austria</td>\n      <td>99</td>\n      <td>9043.070</td>\n    </tr>\n    <tr>\n      <th>17</th>\n      <td>18</td>\n      <td>Estonia</td>\n      <td>99</td>\n      <td>1325.185</td>\n    </tr>\n    <tr>\n      <th>18</th>\n      <td>19</td>\n      <td>Germany</td>\n      <td>98</td>\n      <td>83900.473</td>\n    </tr>\n    <tr>\n      <th>19</th>\n      <td>20</td>\n      <td>France</td>\n      <td>98</td>\n      <td>65426.179</td>\n    </tr>\n  </tbody>\n</table>\n</div>"
     },
     "execution_count": 4,
     "metadata": {},
     "output_type": "execute_result"
    }
   ],
   "source": [
    "data.head(20)"
   ],
   "metadata": {
    "collapsed": false
   }
  },
  {
   "cell_type": "markdown",
   "source": [
    "rank : Order from best to worst\n",
    "country : Country name\n",
    "finalIq : Avarage Iq\n",
    "pop2021 : Population of Countries in 2021"
   ],
   "metadata": {
    "collapsed": false
   }
  },
  {
   "cell_type": "code",
   "execution_count": 5,
   "outputs": [
    {
     "data": {
      "text/plain": "Index(['rank', 'country', 'finalIq', 'pop2021'], dtype='object')"
     },
     "execution_count": 5,
     "metadata": {},
     "output_type": "execute_result"
    }
   ],
   "source": [
    "data.columns"
   ],
   "metadata": {
    "collapsed": false
   }
  },
  {
   "cell_type": "markdown",
   "source": [
    "### Type of data which is in the csv iq_index.csv file\n",
    "- Rank: Numerical\n",
    "- Country: Nominal\n",
    "- Avarage IQ: Numerical\n",
    "- Population : Numerical"
   ],
   "metadata": {
    "collapsed": false
   }
  },
  {
   "cell_type": "code",
   "execution_count": 6,
   "outputs": [
    {
     "name": "stdout",
     "output_type": "stream",
     "text": [
      "[0, 1, 2, 3, 4]\n"
     ]
    }
   ],
   "source": [
    "a = [i for i in range(0,5)]\n",
    "print(a)"
   ],
   "metadata": {
    "collapsed": false
   }
  },
  {
   "cell_type": "markdown",
   "source": [
    "There is no column like continent\n",
    "We will add that column"
   ],
   "metadata": {
    "collapsed": false
   }
  },
  {
   "cell_type": "code",
   "execution_count": 7,
   "outputs": [],
   "source": [
    "continent = [\"asia\",\"east asia\",\"east asia\",\"east asia\",\"east asia\",\"east asia\",\"east asia\",\"north america\",\"europe\",\"europe\",\"europe\",\"east asia\",\"europe\",\n",
    "\"europe\",\"oceania\",\"europe\",\"europe\",\"europe\",\"europe\",\"europe\",\"europe\",\"europe\",\"europe\",\"europe\",\"oceania\",\"europe\",\"north america\",\"europe\",\"europe\",\n",
    "\"southeast europe\",\"southeast europe\",\"europe\",\"asia\",\"europe\",\"europe\",\"europe\",\"europe\",\"europe\",\"europe\",\"europe\",\"asia\",\"europe\",\"europe\",\"middle east\",\n",
    "\"europe\",\"europe\",\"southeast europe\",\"southeast europe\",\"asia\",\"south america\",\"asia\",\"europe\",\"asia\",\"southeast europe\",\"middle east\",\"north america\",\n",
    "\"southeast europe\",\"south america\",\"north america\",\"middle east\",\"asia\",\"south america\",\"asia\",\"south america\",\"asia\",\"oceania\",\"south america\",\n",
    "\"east africa\",\"oceania\",\"north america\",\"middle east\",\"south america\",\"middle east\",\"asia\",\"middle east\",\"middle america\",\"asia\",\"south america\",\"oceania\",\n",
    "\"asia\",\"south america\",\"middle east\",\"asia\",\"asia\",\"north africa\",\"north america\",\"north africa\",\"middle east\",\"middle east\",\"oceania\",\"southeast europe\",\n",
    "\"oceania\",\"oceania\",\"south asia\",\"north africa\",\"south america\",\"asia\",\"south america\",\"middle east\",\"middle america\",\"middle east\",\"middle east\",\"north america\",\n",
    "\"oceania\",\"oceania\",\"east africa\",\"oceania\",\"south america\",\"south america\",\"oceania\",\"south asia\",\"africa\",\"north africa\",\"africa\",\"middle east\",\"oceania\",\n",
    "\"southeast europe\",\"south asia\",\"middle america\",\"south america\",\"south asia\",\"asia\",\"middle east\",\"asia\",\"asia\",\"middle america\",\"middle east\",\"oceania\",\"middle east\",\n",
    "\"south asia\",\"middle america\",\"south asia\",\"middle america\",\"south asia\",\"north africa\",\"east africa\",\"east africa\",\"africa\",\"africa\",\"north america\",\"south asia\",\n",
    "\"east africa\",\"africa\",\"east africa\",\"africa\",\"asia\",\"africa\",\"oceania\",\"oceania\",\"oceania\",\"east africa\",\"africa\",\"east africa\",\"africa\",\"east africa\",\"west africa\",\n",
    "\"south africa\",\"east africa\",\"africa\",\"west africa\",\"west africa\",\"oceania\",\"oceania\",\"west africa\",\"west africa\",\"west africa\",\"west africa\",\"south africa\",\n",
    "\"east africa\",\"west africa\",\"west africa\",\"africa\",\"west africa\",\"africa\",\"east africa\",\"africa\",\"west africa\",\"oceania\",\"africa\",\"oceania\",\"africa\",\"west africa\",\n",
    "\"africa\",\"africa\",\"africa\",\"africa\",\"west africa\",\"oceania\",\"east africa\"\n",
    "]"
   ],
   "metadata": {
    "collapsed": false
   }
  },
  {
   "cell_type": "code",
   "execution_count": 8,
   "outputs": [],
   "source": [
    "data[\"continent\"] = continent"
   ],
   "metadata": {
    "collapsed": false
   }
  },
  {
   "cell_type": "code",
   "execution_count": 9,
   "outputs": [
    {
     "data": {
      "text/plain": "   rank    country  finalIq      pop2021  continent\n0     1  Singapore      107     5896.686       asia\n1     2      China      105  1444216.107  east asia\n2     3  Hong Kong      105     7552.810  east asia\n3     4      Japan      104   126050.804  east asia",
      "text/html": "<div>\n<style scoped>\n    .dataframe tbody tr th:only-of-type {\n        vertical-align: middle;\n    }\n\n    .dataframe tbody tr th {\n        vertical-align: top;\n    }\n\n    .dataframe thead th {\n        text-align: right;\n    }\n</style>\n<table border=\"1\" class=\"dataframe\">\n  <thead>\n    <tr style=\"text-align: right;\">\n      <th></th>\n      <th>rank</th>\n      <th>country</th>\n      <th>finalIq</th>\n      <th>pop2021</th>\n      <th>continent</th>\n    </tr>\n  </thead>\n  <tbody>\n    <tr>\n      <th>0</th>\n      <td>1</td>\n      <td>Singapore</td>\n      <td>107</td>\n      <td>5896.686</td>\n      <td>asia</td>\n    </tr>\n    <tr>\n      <th>1</th>\n      <td>2</td>\n      <td>China</td>\n      <td>105</td>\n      <td>1444216.107</td>\n      <td>east asia</td>\n    </tr>\n    <tr>\n      <th>2</th>\n      <td>3</td>\n      <td>Hong Kong</td>\n      <td>105</td>\n      <td>7552.810</td>\n      <td>east asia</td>\n    </tr>\n    <tr>\n      <th>3</th>\n      <td>4</td>\n      <td>Japan</td>\n      <td>104</td>\n      <td>126050.804</td>\n      <td>east asia</td>\n    </tr>\n  </tbody>\n</table>\n</div>"
     },
     "execution_count": 9,
     "metadata": {},
     "output_type": "execute_result"
    }
   ],
   "source": [
    "data.head(4)"
   ],
   "metadata": {
    "collapsed": false
   }
  },
  {
   "cell_type": "code",
   "execution_count": 10,
   "outputs": [
    {
     "data": {
      "text/plain": "             rank     finalIq       pop2021\ncount  189.000000  189.000000  1.890000e+02\nmean    95.000000   84.021164  4.147374e+04\nstd     54.703748   10.895030  1.507167e+05\nmin      1.000000   60.000000  1.756500e+01\n25%     48.000000   75.000000  2.278825e+03\n50%     95.000000   84.000000  9.442862e+03\n75%    142.000000   93.000000  3.049064e+04\nmax    189.000000  107.000000  1.444216e+06",
      "text/html": "<div>\n<style scoped>\n    .dataframe tbody tr th:only-of-type {\n        vertical-align: middle;\n    }\n\n    .dataframe tbody tr th {\n        vertical-align: top;\n    }\n\n    .dataframe thead th {\n        text-align: right;\n    }\n</style>\n<table border=\"1\" class=\"dataframe\">\n  <thead>\n    <tr style=\"text-align: right;\">\n      <th></th>\n      <th>rank</th>\n      <th>finalIq</th>\n      <th>pop2021</th>\n    </tr>\n  </thead>\n  <tbody>\n    <tr>\n      <th>count</th>\n      <td>189.000000</td>\n      <td>189.000000</td>\n      <td>1.890000e+02</td>\n    </tr>\n    <tr>\n      <th>mean</th>\n      <td>95.000000</td>\n      <td>84.021164</td>\n      <td>4.147374e+04</td>\n    </tr>\n    <tr>\n      <th>std</th>\n      <td>54.703748</td>\n      <td>10.895030</td>\n      <td>1.507167e+05</td>\n    </tr>\n    <tr>\n      <th>min</th>\n      <td>1.000000</td>\n      <td>60.000000</td>\n      <td>1.756500e+01</td>\n    </tr>\n    <tr>\n      <th>25%</th>\n      <td>48.000000</td>\n      <td>75.000000</td>\n      <td>2.278825e+03</td>\n    </tr>\n    <tr>\n      <th>50%</th>\n      <td>95.000000</td>\n      <td>84.000000</td>\n      <td>9.442862e+03</td>\n    </tr>\n    <tr>\n      <th>75%</th>\n      <td>142.000000</td>\n      <td>93.000000</td>\n      <td>3.049064e+04</td>\n    </tr>\n    <tr>\n      <th>max</th>\n      <td>189.000000</td>\n      <td>107.000000</td>\n      <td>1.444216e+06</td>\n    </tr>\n  </tbody>\n</table>\n</div>"
     },
     "execution_count": 10,
     "metadata": {},
     "output_type": "execute_result"
    }
   ],
   "source": [
    "data.describe()"
   ],
   "metadata": {
    "collapsed": false
   }
  },
  {
   "cell_type": "markdown",
   "source": [
    "### Column Casting"
   ],
   "metadata": {
    "collapsed": false
   }
  },
  {
   "cell_type": "code",
   "execution_count": 11,
   "outputs": [],
   "source": [
    "for i in data[\"pop2021\"]:\n",
    "    i = int(i)"
   ],
   "metadata": {
    "collapsed": false
   }
  },
  {
   "cell_type": "markdown",
   "source": [
    "### Ortalama Hesaplama"
   ],
   "metadata": {
    "collapsed": false
   }
  },
  {
   "cell_type": "code",
   "execution_count": 12,
   "outputs": [
    {
     "name": "stdout",
     "output_type": "stream",
     "text": [
      "Avarage IQ in the world\n",
      "88.26678921025223\n"
     ]
    }
   ],
   "source": [
    "# The avarage of wordl Iq\n",
    "sum = 0\n",
    "for i in range(len(data)):\n",
    "    num = data[\"finalIq\"][i] * data[\"pop2021\"][i]\n",
    "    sum+=math.floor(num)\n",
    "population = 0\n",
    "for i in data[\"pop2021\"]:\n",
    "    population+=i\n",
    "avarage = sum / population\n",
    "\n",
    "print(\"Avarage IQ in the world\")\n",
    "print(avarage)"
   ],
   "metadata": {
    "collapsed": false
   }
  },
  {
   "cell_type": "code",
   "execution_count": 13,
   "outputs": [
    {
     "name": "stdout",
     "output_type": "stream",
     "text": [
      "Avarage of IQ column without population correlation : 84.02116402116403\n",
      "Median of IQ column :  84.0\n"
     ]
    }
   ],
   "source": [
    "print(\"Avarage of IQ column without population correlation :\", data[\"finalIq\"].mean())\n",
    "print(\"Median of IQ column : \", data[\"finalIq\"].median())"
   ],
   "metadata": {
    "collapsed": false
   }
  },
  {
   "cell_type": "markdown",
   "source": [
    "### Counting Mod"
   ],
   "metadata": {
    "collapsed": false
   }
  },
  {
   "cell_type": "code",
   "execution_count": 14,
   "outputs": [
    {
     "name": "stdout",
     "output_type": "stream",
     "text": [
      "0    84\n",
      "1    85\n",
      "Name: finalIq, dtype: int64\n",
      "repeated '85' 14 times in this column\n"
     ]
    }
   ],
   "source": [
    "print(data[\"finalIq\"].mode())\n",
    "print(f\"repeated '85' {len(data[data['finalIq'] == 84])} times in this column\")"
   ],
   "metadata": {
    "collapsed": false
   }
  },
  {
   "cell_type": "code",
   "execution_count": 15,
   "outputs": [
    {
     "name": "stdout",
     "output_type": "stream",
     "text": [
      "     rank           country  finalIq     pop2021       continent\n",
      "93     94          Pakistan       84  225199.937      south asia\n",
      "94     95           Algeria       84   44616.624    north africa\n",
      "95     96              Peru       84   33359.418   south america\n",
      "96     97        Azerbaijan       84   10223.342            asia\n",
      "97     98          Paraguay       84    7219.638   south america\n",
      "98     99           Lebanon       84    6769.146     middle east\n",
      "99    100         Nicaragua       84    6702.385  middle america\n",
      "100   101              Oman       84    5223.375     middle east\n",
      "101   102         Palestine       84    5222.748     middle east\n",
      "102   103           Bahamas       84     396.913   north america\n",
      "103   104           Vanuatu       84     314.464         oceania\n",
      "104   105        Micronesia       84     116.254         oceania\n",
      "105   106        Seychelles       84      98.908     east africa\n",
      "106   107  Marshall Islands       84      59.610         oceania\n"
     ]
    }
   ],
   "source": [
    "x = data[data[\"finalIq\"] == 84]\n",
    "print(x)"
   ],
   "metadata": {
    "collapsed": false
   }
  },
  {
   "cell_type": "code",
   "execution_count": 16,
   "outputs": [
    {
     "name": "stdout",
     "output_type": "stream",
     "text": [
      " Mode of country column: Afghanistan\n",
      " Mode of finalIq column: 84\n",
      " Mode of pop2021 column: 17.565\n",
      " Mode of continent column: europe\n"
     ]
    }
   ],
   "source": [
    "for i in data.columns[1:]:\n",
    "    print(f\" Mode of {i} column: {data[i].mode()[0]}\")"
   ],
   "metadata": {
    "collapsed": false
   }
  },
  {
   "cell_type": "markdown",
   "source": [
    "### Counting Mid-Range"
   ],
   "metadata": {
    "collapsed": false
   }
  },
  {
   "cell_type": "code",
   "execution_count": 17,
   "outputs": [
    {
     "name": "stdout",
     "output_type": "stream",
     "text": [
      "Mid-Range of IQ column :  83.5\n"
     ]
    }
   ],
   "source": [
    "print(\"Mid-Range of IQ column : \", (data[\"finalIq\"].min() + data[\"finalIq\"].max())/2)"
   ],
   "metadata": {
    "collapsed": false
   }
  },
  {
   "cell_type": "code",
   "execution_count": 18,
   "outputs": [
    {
     "name": "stdout",
     "output_type": "stream",
     "text": [
      "Mid-Range of finalIq column : 83.5 \n",
      "Mid-Range of pop2021 column : 722116.836 \n"
     ]
    }
   ],
   "source": [
    "# Mid-Range of numerical data types in the data set\n",
    "\n",
    "for i in data.columns[1:]:\n",
    "    if data[i].dtype == 'float64':\n",
    "        print(f\"Mid-Range of {i} column : {(data[i].min() + data[i].max())/2} \")\n",
    "    if data[i].dtype == 'int64':\n",
    "        print(f\"Mid-Range of {i} column : {(data[i].min() + data[i].max())/2} \")"
   ],
   "metadata": {
    "collapsed": false
   }
  },
  {
   "cell_type": "markdown",
   "source": [
    "### Quantiles"
   ],
   "metadata": {
    "collapsed": false
   }
  },
  {
   "cell_type": "code",
   "execution_count": 19,
   "outputs": [
    {
     "name": "stdout",
     "output_type": "stream",
     "text": [
      "Q1: 75.0\n",
      "Q2: 84.0\n",
      "Q3: 93.0\n"
     ]
    }
   ],
   "source": [
    "quantiles = data[\"finalIq\"].quantile([0.25,0.5,0.75])\n",
    "print(\"Q1:\",quantiles[0.25])\n",
    "print(\"Q2:\",quantiles[0.5])\n",
    "print(\"Q3:\",quantiles[0.75])"
   ],
   "metadata": {
    "collapsed": false
   }
  },
  {
   "cell_type": "code",
   "execution_count": 20,
   "outputs": [
    {
     "name": "stdout",
     "output_type": "stream",
     "text": [
      "Q1 of finalIq column: 75.0\n",
      "Q2 of finalIq column: 84.0\n",
      "Q3 of finalIq column: 93.0\n",
      "---------------\n",
      "Q1 of pop2021 column: 2278.825\n",
      "Q2 of pop2021 column: 9442.862\n",
      "Q3 of pop2021 column: 30490.64\n",
      "---------------\n"
     ]
    }
   ],
   "source": [
    "for i in data.columns[1:]:\n",
    "    if data[i].dtype == 'float64':\n",
    "        quantiles = data[i].quantile([0.25,0.5,0.75])\n",
    "        print(f\"Q1 of {i} column:\",quantiles[0.25])\n",
    "        print(f\"Q2 of {i} column:\",quantiles[0.5])\n",
    "        print(f\"Q3 of {i} column:\",quantiles[0.75])\n",
    "        print(\"-\" * 15)\n",
    "    if data[i].dtype == 'int64':\n",
    "        quantiles = data[i].quantile([0.25,0.5,0.75])\n",
    "        print(f\"Q1 of {i} column:\",quantiles[0.25])\n",
    "        print(f\"Q2 of {i} column:\",quantiles[0.5])\n",
    "        print(f\"Q3 of {i} column:\",quantiles[0.75])\n",
    "        print(\"-\" * 15)"
   ],
   "metadata": {
    "collapsed": false
   }
  },
  {
   "cell_type": "markdown",
   "source": [
    "### Distance between Quantiles"
   ],
   "metadata": {
    "collapsed": false
   }
  },
  {
   "cell_type": "code",
   "execution_count": 21,
   "outputs": [
    {
     "name": "stdout",
     "output_type": "stream",
     "text": [
      "Distance between quantiles : 18.0\n"
     ]
    }
   ],
   "source": [
    "quantiles = data['finalIq'].quantile([0.25,0.5,0.75])\n",
    "print(f\"Distance between quantiles : {quantiles[0.75] - quantiles[0.25]}\")"
   ],
   "metadata": {
    "collapsed": false
   }
  },
  {
   "cell_type": "markdown",
   "source": [
    "Not much difference between quarters"
   ],
   "metadata": {
    "collapsed": false
   }
  },
  {
   "cell_type": "code",
   "execution_count": 22,
   "outputs": [
    {
     "name": "stdout",
     "output_type": "stream",
     "text": [
      "Distance between quantiles at finalIq column : 18.0 \n",
      "Distance between quantiles at pop2021 column : 28211.815 \n"
     ]
    }
   ],
   "source": [
    "for i in data.columns[1:]:\n",
    "\n",
    "    if data[i].dtype == 'float64':\n",
    "        quantiles = data[i].quantile([0.25,0.5,0.75])\n",
    "        print(f\"Distance between quantiles at {i} column : {quantiles[0.75] - quantiles[0.25]} \")\n",
    "    if data[i].dtype == 'int64':\n",
    "        quantiles = data[i].quantile([0.25,0.5,0.75])\n",
    "        print(f\"Distance between quantiles at {i} column : {quantiles[0.75] - quantiles[0.25]} \")"
   ],
   "metadata": {
    "collapsed": false
   }
  },
  {
   "cell_type": "markdown",
   "source": [],
   "metadata": {
    "collapsed": false
   }
  },
  {
   "cell_type": "markdown",
   "source": [
    "### Box Plot Graphics"
   ],
   "metadata": {
    "collapsed": false
   }
  },
  {
   "cell_type": "code",
   "execution_count": 23,
   "outputs": [
    {
     "data": {
      "text/plain": "<Figure size 640x480 with 1 Axes>",
      "image/png": "[encoded data removed]"
     },
     "metadata": {},
     "output_type": "display_data"
    }
   ],
   "source": [
    "dataframe = pd.DataFrame(data=data)\n",
    "boxplot = dataframe.boxplot(column=['finalIq'],by=['continent'],)"
   ],
   "metadata": {
    "collapsed": false
   }
  },
  {
   "cell_type": "code",
   "execution_count": 24,
   "outputs": [
    {
     "data": {
      "text/plain": "<Figure size 640x480 with 1 Axes>",
      "image/png": "[encoded data removed]"
     },
     "metadata": {},
     "output_type": "display_data"
    }
   ],
   "source": [
    "import seaborn as sns\n",
    "ax = sns.boxplot(x=\"finalIq\", y=\"continent\", data=dataframe,palette=\"Set3\")"
   ],
   "metadata": {
    "collapsed": false
   }
  },
  {
   "cell_type": "markdown",
   "source": [
    "### Variants"
   ],
   "metadata": {
    "collapsed": false
   }
  },
  {
   "cell_type": "code",
   "execution_count": 25,
   "outputs": [
    {
     "name": "stdout",
     "output_type": "stream",
     "text": [
      "Variant of IQ column : 118.70167736125184\n"
     ]
    }
   ],
   "source": [
    "print(f\"Variant of IQ column : {data['finalIq'].var()}\")"
   ],
   "metadata": {
    "collapsed": false
   }
  },
  {
   "cell_type": "markdown",
   "source": [
    "That means values are not really far away from mean"
   ],
   "metadata": {
    "collapsed": false
   }
  },
  {
   "cell_type": "markdown",
   "source": [],
   "metadata": {
    "collapsed": false
   }
  },
  {
   "cell_type": "markdown",
   "source": [
    "### Standart Deviation"
   ],
   "metadata": {
    "collapsed": false
   }
  },
  {
   "cell_type": "code",
   "execution_count": 26,
   "outputs": [
    {
     "name": "stdout",
     "output_type": "stream",
     "text": [
      "Standart Deviaton of IQ column : 10.895029938520217\n"
     ]
    }
   ],
   "source": [
    "print(f\"Standart Deviaton of IQ column : {data['finalIq'].std()}\")"
   ],
   "metadata": {
    "collapsed": false
   }
  },
  {
   "cell_type": "markdown",
   "source": [
    "We can calculate the standard deviation by taking the square root of the variance."
   ],
   "metadata": {
    "collapsed": false
   }
  },
  {
   "cell_type": "code",
   "execution_count": 27,
   "outputs": [
    {
     "name": "stdout",
     "output_type": "stream",
     "text": [
      "Standart Deviaton of IQ column : 10.895029938520217\n"
     ]
    }
   ],
   "source": [
    "print(f\"Standart Deviaton of IQ column : {math.sqrt(data['finalIq'].var())}\")"
   ],
   "metadata": {
    "collapsed": false
   }
  },
  {
   "cell_type": "markdown",
   "source": [
    "### Histogram"
   ],
   "metadata": {
    "collapsed": false
   }
  },
  {
   "cell_type": "code",
   "execution_count": 28,
   "outputs": [
    {
     "data": {
      "text/plain": "<Figure size 640x480 with 1 Axes>",
      "image/png": "[encoded data removed]"
     },
     "metadata": {},
     "output_type": "display_data"
    }
   ],
   "source": [
    "import matplotlib.pyplot as plt\n",
    "\n",
    "plt.xlabel(\"continent\")\n",
    "plt.ylabel(\"finalIq\")\n",
    "plt.bar(data[\"continent\"],data[\"finalIq\"])\n",
    "plt.show()"
   ],
   "metadata": {
    "collapsed": false
   }
  },
  {
   "cell_type": "markdown",
   "source": [
    "### Scatter Plot"
   ],
   "metadata": {
    "collapsed": false
   }
  },
  {
   "cell_type": "code",
   "execution_count": 29,
   "outputs": [
    {
     "data": {
      "text/plain": "<Figure size 640x480 with 1 Axes>",
      "image/png": "[encoded data removed]"
     },
     "metadata": {},
     "output_type": "display_data"
    }
   ],
   "source": [
    "#Add extra outliers\n",
    "\n",
    "plt.scatter(data['continent'],data['finalIq'])\n",
    "plt.xlabel(\"Continents\")\n",
    "plt.ylabel(\"Avarage IQ\")\n",
    "plt.show()"
   ],
   "metadata": {
    "collapsed": false
   }
  },
  {
   "cell_type": "markdown",
   "source": [
    "### Data Similarity and Difference Measurement"
   ],
   "metadata": {
    "collapsed": false
   }
  },
  {
   "cell_type": "code",
   "execution_count": 30,
   "outputs": [
    {
     "name": "stdout",
     "output_type": "stream",
     "text": [
      "   rank         country  finalIq     pop2021         continent\n",
      "0     1       Singapore      107    5896.686              asia\n",
      "1     3       Hong Kong      105    7552.810         east asia\n",
      "2     5     South Korea      104   51305.186         east asia\n",
      "3    22          Sweden       98   10160.169            europe\n",
      "4    21  Czech Republic       98   10724.555            europe\n",
      "5    31        Slovenia       97    2078.724  southeast europe\n",
      "6    43        Portugal       94   10167.925            europe\n",
      "7    50       Argentina       92   45605.826     south america\n",
      "8    81          Brazil       85  213993.437     south america\n",
      "9    82            Iran       85   85028.759       middle east\n"
     ]
    }
   ],
   "source": [
    "randaom_indexes = [i * rnd.randint(i,10) for i in range(10)]\n",
    "light_data = data.iloc[randaom_indexes].copy()\n",
    "light_data.reset_index(drop=True, inplace=True)\n",
    "print(light_data)\n"
   ],
   "metadata": {
    "collapsed": false
   }
  },
  {
   "cell_type": "markdown",
   "source": [
    "### Difference between nominal characteristics"
   ],
   "metadata": {
    "collapsed": false
   }
  },
  {
   "cell_type": "code",
   "execution_count": 31,
   "outputs": [],
   "source": [
    "nominal_features = ['country','continent']"
   ],
   "metadata": {
    "collapsed": false
   }
  },
  {
   "cell_type": "code",
   "execution_count": 32,
   "outputs": [],
   "source": [
    "# Dissmilarity for nominal features returns dissimilarity matris\n",
    "\n",
    "def nominal_dissimilarity(data_matris, nominal_features):\n",
    "    lengt = len(data_matris)\n",
    "    result = np.zeros((lengt,lengt))\n",
    "    for i in range(lengt):\n",
    "        for j in range(i,lengt):\n",
    "            matching_columns = light_data.columns[light_data.iloc[i] == light_data.iloc[j]]\n",
    "            matching_columns = [i for i in matching_columns if data_matris[i].dtype == 'object']\n",
    "            result[j,i] = (len(nominal_features) - len(matching_columns)) / len(nominal_features)\n",
    "    np.fill_diagonal(result,0)\n",
    "    return result"
   ],
   "metadata": {
    "collapsed": false
   }
  },
  {
   "cell_type": "code",
   "execution_count": 33,
   "outputs": [
    {
     "name": "stdout",
     "output_type": "stream",
     "text": [
      "[[0.  0.  0.  0.  0.  0.  0.  0.  0.  0. ]\n",
      " [1.  0.  0.  0.  0.  0.  0.  0.  0.  0. ]\n",
      " [1.  0.5 0.  0.  0.  0.  0.  0.  0.  0. ]\n",
      " [1.  1.  1.  0.  0.  0.  0.  0.  0.  0. ]\n",
      " [1.  1.  1.  0.5 0.  0.  0.  0.  0.  0. ]\n",
      " [1.  1.  1.  1.  1.  0.  0.  0.  0.  0. ]\n",
      " [1.  1.  1.  0.5 0.5 1.  0.  0.  0.  0. ]\n",
      " [1.  1.  1.  1.  1.  1.  1.  0.  0.  0. ]\n",
      " [1.  1.  1.  1.  1.  1.  1.  0.5 0.  0. ]\n",
      " [1.  1.  1.  1.  1.  1.  1.  1.  1.  0. ]]\n"
     ]
    }
   ],
   "source": [
    "nominal_matris = nominal_dissimilarity(light_data,nominal_features)\n",
    "print(nominal_matris)"
   ],
   "metadata": {
    "collapsed": false
   }
  },
  {
   "cell_type": "code",
   "execution_count": 34,
   "outputs": [
    {
     "name": "stdout",
     "output_type": "stream",
     "text": [
      "0    1.000000\n",
      "1    0.909091\n",
      "2    0.863636\n",
      "3    0.590909\n",
      "4    0.590909\n",
      "5    0.545455\n",
      "6    0.409091\n",
      "7    0.318182\n",
      "8    0.000000\n",
      "9    0.000000\n",
      "Name: finalIq, dtype: float64\n"
     ]
    }
   ],
   "source": [
    "def normalization(data):\n",
    "    min_value = data.min()\n",
    "    max_value = data.max()\n",
    "    return  (data - min_value) / (max_value - min_value)\n",
    "\n",
    "light_data['finalIq'] = normalization(light_data[\"finalIq\"])\n",
    "light_data['pop2021'] = normalization(light_data[\"pop2021\"])\n",
    "print(light_data[\"finalIq\"])"
   ],
   "metadata": {
    "collapsed": false
   }
  },
  {
   "cell_type": "markdown",
   "source": [
    "### Difference between numerical features"
   ],
   "metadata": {
    "collapsed": false
   }
  },
  {
   "cell_type": "code",
   "execution_count": 35,
   "outputs": [],
   "source": [
    "numerical_features = ['finalIq','pop2021']\n",
    "\n",
    "def numerical_dissimilarity(data_matris, numerical_features, method = \"Manhattan\"):\n",
    "    length = len(data_matris)\n",
    "    result = np.zeros((length, length))\n",
    "\n",
    "    for i in range(length):\n",
    "        for j in range(i,length):\n",
    "            if method == \"Manhattan\":\n",
    "                result[j,i] = math.sqrt(sum(pow(light_data.loc[i, numerical_features] - light_data.loc[j, numerical_features], 2)))\n",
    "            else:\n",
    "                result[j,i] = sum(abs(light_data.loc[i, numerical_features] - light_data.loc[j, numerical_features]))\n",
    "    np.fill_diagonal(result,0)\n",
    "    return np.around(result,2)"
   ],
   "metadata": {
    "collapsed": false
   }
  },
  {
   "cell_type": "code",
   "execution_count": 36,
   "outputs": [
    {
     "ename": "TypeError",
     "evalue": "'int' object is not callable",
     "output_type": "error",
     "traceback": [
      "\u001B[1;31m---------------------------------------------------------------------------\u001B[0m",
      "\u001B[1;31mTypeError\u001B[0m                                 Traceback (most recent call last)",
      "Cell \u001B[1;32mIn [36], line 1\u001B[0m\n\u001B[1;32m----> 1\u001B[0m numerical_matris \u001B[38;5;241m=\u001B[39m \u001B[43mnumerical_dissimilarity\u001B[49m\u001B[43m(\u001B[49m\u001B[43mlight_data\u001B[49m\u001B[43m,\u001B[49m\u001B[43m \u001B[49m\u001B[43mnumerical_features\u001B[49m\u001B[43m)\u001B[49m\n\u001B[0;32m      2\u001B[0m \u001B[38;5;28mprint\u001B[39m(numerical_matris)\n",
      "Cell \u001B[1;32mIn [35], line 10\u001B[0m, in \u001B[0;36mnumerical_dissimilarity\u001B[1;34m(data_matris, numerical_features, method)\u001B[0m\n\u001B[0;32m      8\u001B[0m \u001B[38;5;28;01mfor\u001B[39;00m j \u001B[38;5;129;01min\u001B[39;00m \u001B[38;5;28mrange\u001B[39m(i,length):\n\u001B[0;32m      9\u001B[0m     \u001B[38;5;28;01mif\u001B[39;00m method \u001B[38;5;241m==\u001B[39m \u001B[38;5;124m\"\u001B[39m\u001B[38;5;124mManhattan\u001B[39m\u001B[38;5;124m\"\u001B[39m:\n\u001B[1;32m---> 10\u001B[0m         result[j,i] \u001B[38;5;241m=\u001B[39m math\u001B[38;5;241m.\u001B[39msqrt(\u001B[38;5;28;43msum\u001B[39;49m\u001B[43m(\u001B[49m\u001B[38;5;28;43mpow\u001B[39;49m\u001B[43m(\u001B[49m\u001B[43mlight_data\u001B[49m\u001B[38;5;241;43m.\u001B[39;49m\u001B[43mloc\u001B[49m\u001B[43m[\u001B[49m\u001B[43mi\u001B[49m\u001B[43m,\u001B[49m\u001B[43m \u001B[49m\u001B[43mnumerical_features\u001B[49m\u001B[43m]\u001B[49m\u001B[43m \u001B[49m\u001B[38;5;241;43m-\u001B[39;49m\u001B[43m \u001B[49m\u001B[43mlight_data\u001B[49m\u001B[38;5;241;43m.\u001B[39;49m\u001B[43mloc\u001B[49m\u001B[43m[\u001B[49m\u001B[43mj\u001B[49m\u001B[43m,\u001B[49m\u001B[43m \u001B[49m\u001B[43mnumerical_features\u001B[49m\u001B[43m]\u001B[49m\u001B[43m,\u001B[49m\u001B[43m \u001B[49m\u001B[38;5;241;43m2\u001B[39;49m\u001B[43m)\u001B[49m\u001B[43m)\u001B[49m)\n\u001B[0;32m     11\u001B[0m     \u001B[38;5;28;01melse\u001B[39;00m:\n\u001B[0;32m     12\u001B[0m         result[j,i] \u001B[38;5;241m=\u001B[39m \u001B[38;5;28msum\u001B[39m(\u001B[38;5;28mabs\u001B[39m(light_data\u001B[38;5;241m.\u001B[39mloc[i, numerical_features] \u001B[38;5;241m-\u001B[39m light_data\u001B[38;5;241m.\u001B[39mloc[j, numerical_features]))\n",
      "\u001B[1;31mTypeError\u001B[0m: 'int' object is not callable"
     ]
    }
   ],
   "source": [
    "numerical_matris = numerical_dissimilarity(light_data, numerical_features)\n",
    "print(numerical_matris)"
   ],
   "metadata": {
    "collapsed": false
   }
  },
  {
   "cell_type": "markdown",
   "source": [
    "### Cosine Similarity"
   ],
   "metadata": {
    "collapsed": false
   }
  },
  {
   "cell_type": "code",
   "execution_count": 37,
   "outputs": [],
   "source": [
    "from sklearn.metrics.pairwise import cosine_similarity\n",
    "\n",
    "kosinus_data = pd.DataFrame(columns=['takım', 'koç', 'hokey', 'beyzbol', 'futbol', 'penaltı', 'skor', 'galibiyet', 'kayıp', 'sezon'])"
   ],
   "metadata": {
    "collapsed": false
   }
  },
  {
   "cell_type": "code",
   "execution_count": 38,
   "outputs": [
    {
     "name": "stderr",
     "output_type": "stream",
     "text": [
      "C:\\Users\\ilhan\\AppData\\Local\\Temp\\ipykernel_8432\\258844805.py:1: FutureWarning: The frame.append method is deprecated and will be removed from pandas in a future version. Use pandas.concat instead.\n",
      "  kosinus_data = kosinus_data.append([{kolon: rnd.randint(0,10) for kolon in kosinus_data.columns} for i in range(10)])\n"
     ]
    },
    {
     "data": {
      "text/plain": "  takım koç hokey beyzbol futbol penaltı skor galibiyet kayıp sezon\n0     9   6     0       0      1       3    3         8     9     0\n1     8   3    10       8      6       3    7         9     4     0\n2     2   6     5       4      2       3    5         1     1     6\n3     1   5     5       9      4       0    7         8     1     6\n4     1   8     4      10      9       5    9         3     1     0\n5    10   3     4       1      3       1    6         4     7    10\n6     5   2     5       5      3      10    4        10    10     1\n7     9  10     2       8      3       2    7         6     4    10\n8     8   3    10       5      0       3    0         5     6     4\n9     1   3     9       5      3      10    7         6    10     7",
      "text/html": "<div>\n<style scoped>\n    .dataframe tbody tr th:only-of-type {\n        vertical-align: middle;\n    }\n\n    .dataframe tbody tr th {\n        vertical-align: top;\n    }\n\n    .dataframe thead th {\n        text-align: right;\n    }\n</style>\n<table border=\"1\" class=\"dataframe\">\n  <thead>\n    <tr style=\"text-align: right;\">\n      <th></th>\n      <th>takım</th>\n      <th>koç</th>\n      <th>hokey</th>\n      <th>beyzbol</th>\n      <th>futbol</th>\n      <th>penaltı</th>\n      <th>skor</th>\n      <th>galibiyet</th>\n      <th>kayıp</th>\n      <th>sezon</th>\n    </tr>\n  </thead>\n  <tbody>\n    <tr>\n      <th>0</th>\n      <td>9</td>\n      <td>6</td>\n      <td>0</td>\n      <td>0</td>\n      <td>1</td>\n      <td>3</td>\n      <td>3</td>\n      <td>8</td>\n      <td>9</td>\n      <td>0</td>\n    </tr>\n    <tr>\n      <th>1</th>\n      <td>8</td>\n      <td>3</td>\n      <td>10</td>\n      <td>8</td>\n      <td>6</td>\n      <td>3</td>\n      <td>7</td>\n      <td>9</td>\n      <td>4</td>\n      <td>0</td>\n    </tr>\n    <tr>\n      <th>2</th>\n      <td>2</td>\n      <td>6</td>\n      <td>5</td>\n      <td>4</td>\n      <td>2</td>\n      <td>3</td>\n      <td>5</td>\n      <td>1</td>\n      <td>1</td>\n      <td>6</td>\n    </tr>\n    <tr>\n      <th>3</th>\n      <td>1</td>\n      <td>5</td>\n      <td>5</td>\n      <td>9</td>\n      <td>4</td>\n      <td>0</td>\n      <td>7</td>\n      <td>8</td>\n      <td>1</td>\n      <td>6</td>\n    </tr>\n    <tr>\n      <th>4</th>\n      <td>1</td>\n      <td>8</td>\n      <td>4</td>\n      <td>10</td>\n      <td>9</td>\n      <td>5</td>\n      <td>9</td>\n      <td>3</td>\n      <td>1</td>\n      <td>0</td>\n    </tr>\n    <tr>\n      <th>5</th>\n      <td>10</td>\n      <td>3</td>\n      <td>4</td>\n      <td>1</td>\n      <td>3</td>\n      <td>1</td>\n      <td>6</td>\n      <td>4</td>\n      <td>7</td>\n      <td>10</td>\n    </tr>\n    <tr>\n      <th>6</th>\n      <td>5</td>\n      <td>2</td>\n      <td>5</td>\n      <td>5</td>\n      <td>3</td>\n      <td>10</td>\n      <td>4</td>\n      <td>10</td>\n      <td>10</td>\n      <td>1</td>\n    </tr>\n    <tr>\n      <th>7</th>\n      <td>9</td>\n      <td>10</td>\n      <td>2</td>\n      <td>8</td>\n      <td>3</td>\n      <td>2</td>\n      <td>7</td>\n      <td>6</td>\n      <td>4</td>\n      <td>10</td>\n    </tr>\n    <tr>\n      <th>8</th>\n      <td>8</td>\n      <td>3</td>\n      <td>10</td>\n      <td>5</td>\n      <td>0</td>\n      <td>3</td>\n      <td>0</td>\n      <td>5</td>\n      <td>6</td>\n      <td>4</td>\n    </tr>\n    <tr>\n      <th>9</th>\n      <td>1</td>\n      <td>3</td>\n      <td>9</td>\n      <td>5</td>\n      <td>3</td>\n      <td>10</td>\n      <td>7</td>\n      <td>6</td>\n      <td>10</td>\n      <td>7</td>\n    </tr>\n  </tbody>\n</table>\n</div>"
     },
     "execution_count": 38,
     "metadata": {},
     "output_type": "execute_result"
    }
   ],
   "source": [
    "kosinus_data = kosinus_data.append([{kolon: rnd.randint(0,10) for kolon in kosinus_data.columns} for i in range(10)])\n",
    "kosinus_data"
   ],
   "metadata": {
    "collapsed": false
   }
  },
  {
   "cell_type": "code",
   "execution_count": 39,
   "outputs": [],
   "source": [
    "benzerlik_matris = cosine_similarity(kosinus_data)\n",
    "benzerlik_matris = np.around(benzerlik_matris, 2)"
   ],
   "metadata": {
    "collapsed": false
   }
  },
  {
   "cell_type": "code",
   "execution_count": null,
   "outputs": [],
   "source": [
    "benzerlik_matris"
   ],
   "metadata": {
    "collapsed": false
   }
  },
  {
   "cell_type": "markdown",
   "source": [
    "# Results"
   ],
   "metadata": {
    "collapsed": false
   },
   "execution_count": 1
  },
  {
   "cell_type": "markdown",
   "source": [
    "-- Afrika ülkeleri en düşük ortalamaya sahipken Doğu asya en yüksek ıq ortalamasına sahiptir.\n",
    "\n",
    "-- Bazı Kıtalar ve Iq ortalaması arasında büyük bir korelasyon var\n",
    "\n",
    "-- Genel iq ortalaması arasında standart sapma ve radyan, Kıtaların iq ortalamasındaki radyana göre daha fazladır.\n",
    "\n",
    "-- Nominal ve Karakteristik benzerlikler arası benzerlik fazladır.\n",
    "\n"
   ],
   "metadata": {
    "collapsed": false
   }
  },
  {
   "cell_type": "code",
   "execution_count": null,
   "outputs": [],
   "source": [],
   "metadata": {
    "collapsed": false
   }
  }
 ],
 "metadata": {
  "kernelspec": {
   "display_name": "Python 3",
   "language": "python",
   "name": "python3"
  },
  "language_info": {
   "codemirror_mode": {
    "name": "ipython",
    "version": 2
   },
   "file_extension": ".py",
   "mimetype": "text/x-python",
   "name": "python",
   "nbconvert_exporter": "python",
   "pygments_lexer": "ipython2",
   "version": "2.7.6"
  }
 },
 "nbformat": 4,
 "nbformat_minor": 0
}
